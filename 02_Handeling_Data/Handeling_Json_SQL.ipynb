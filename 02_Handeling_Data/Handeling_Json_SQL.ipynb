{
 "cells": [
  {
   "cell_type": "code",
   "execution_count": 2,
   "id": "6fbb72fc-9548-4580-830d-fef16a57fe84",
   "metadata": {},
   "outputs": [],
   "source": [
    "import pandas as pd"
   ]
  },
  {
   "cell_type": "markdown",
   "id": "fdd9d5b9-fcce-425f-a67e-ba8cae10e176",
   "metadata": {},
   "source": [
    "**Working with json**"
   ]
  },
  {
   "cell_type": "code",
   "execution_count": null,
   "id": "dfe7ba2c-2571-4543-93f5-a908bb65f4b4",
   "metadata": {},
   "outputs": [],
   "source": [
    "pd.read_json('Json File/train.json')"
   ]
  },
  {
   "cell_type": "code",
   "execution_count": null,
   "id": "b0b071d4-4d68-4550-b3a0-705263769ed4",
   "metadata": {},
   "outputs": [],
   "source": [
    "##operations is similar to csv"
   ]
  },
  {
   "cell_type": "code",
   "execution_count": null,
   "id": "7ab3c376-e36c-435f-ba4c-625ae7c0425c",
   "metadata": {},
   "outputs": [],
   "source": [
    "##from url\n",
    "pd.read_json('https://currency-rate-exchange-api.onrender.com/inr')"
   ]
  },
  {
   "cell_type": "markdown",
   "id": "7801717f-ecb9-460d-b12c-c5b326cd310c",
   "metadata": {},
   "source": [
    "**working with sql**\n"
   ]
  },
  {
   "cell_type": "code",
   "execution_count": null,
   "id": "f8ee2730-8ea4-44e5-8d16-77a78e8e3830",
   "metadata": {},
   "outputs": [],
   "source": [
    "\n"
   ]
  },
  {
   "cell_type": "code",
   "execution_count": null,
   "id": "16c6292b-9a45-4bd6-8951-ea74342a25be",
   "metadata": {},
   "outputs": [],
   "source": []
  }
 ],
 "metadata": {
  "kernelspec": {
   "display_name": "Python 3 (ipykernel)",
   "language": "python",
   "name": "python3"
  },
  "language_info": {
   "codemirror_mode": {
    "name": "ipython",
    "version": 3
   },
   "file_extension": ".py",
   "mimetype": "text/x-python",
   "name": "python",
   "nbconvert_exporter": "python",
   "pygments_lexer": "ipython3",
   "version": "3.12.7"
  }
 },
 "nbformat": 4,
 "nbformat_minor": 5
}
