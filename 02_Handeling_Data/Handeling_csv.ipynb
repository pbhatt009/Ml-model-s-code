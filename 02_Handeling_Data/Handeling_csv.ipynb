{
 "cells": [
  {
   "cell_type": "code",
   "execution_count": 1,
   "id": "9e07f014-e5ce-47be-a20a-c5bab0f66ba4",
   "metadata": {},
   "outputs": [],
   "source": [
    "import pandas as pd"
   ]
  },
  {
   "cell_type": "code",
   "execution_count": null,
   "id": "9edd2da0-b16e-4b0a-998b-53a006519172",
   "metadata": {},
   "outputs": [],
   "source": [
    "df=pd.read_csv('csv files/aug_train.csv')\n",
    "df"
   ]
  },
  {
   "cell_type": "code",
   "execution_count": null,
   "id": "b9b10a00-0683-4137-8ae4-9ed5da8e83a5",
   "metadata": {},
   "outputs": [],
   "source": [
    " ####reading tsv file/////by defualt sep is ','\n",
    "tv=pd.read_csv(\"csv files/sample-1.tsv\",sep='\\t')\n",
    "tv\n",
    "\n"
   ]
  },
  {
   "cell_type": "code",
   "execution_count": null,
   "id": "83a8b8e5-5f27-4e47-a947-9b40ce76894a",
   "metadata": {},
   "outputs": [],
   "source": [
    "##index_col paramenter###\n",
    "pd.read_csv('csv files/aug_train.csv',index_col=\"enrollee_id\")\n",
    "#now enrollee col will be treated like index"
   ]
  },
  {
   "cell_type": "code",
   "execution_count": null,
   "id": "7071e4af-09c3-4ccd-93b6-7fae7265d5f1",
   "metadata": {},
   "outputs": [],
   "source": [
    "###header paramenter\n",
    "pd.read_csv('csv files/test.csv',header=1)\n",
    "#first  row of data will start from 1 and 0 will become col  name\n"
   ]
  },
  {
   "cell_type": "code",
   "execution_count": null,
   "id": "e6ac200e-f0f8-4e91-948a-fde0d71fcfa3",
   "metadata": {},
   "outputs": [],
   "source": [
    "#########usecols  paramenter---- only neccesary columns can be extracted\n",
    "pd.read_csv('csv files/aug_train.csv',usecols=['enrollee_id','city','gender'])"
   ]
  },
  {
   "cell_type": "code",
   "execution_count": null,
   "id": "91b79b3f-ae0d-4571-af9c-82bcfd7d1ff9",
   "metadata": {},
   "outputs": [],
   "source": [
    "##skip rows\n",
    "pd.read_csv('csv files/aug_train.csv',skiprows=[0,3])"
   ]
  },
  {
   "cell_type": "code",
   "execution_count": null,
   "id": "ae9e95ba-16e6-43f9-98c4-6780ca2116f4",
   "metadata": {},
   "outputs": [],
   "source": [
    "###nrows\n",
    "pd.read_csv('csv files/aug_train.csv',nrows=100)\n",
    "###will give first 100 row of data"
   ]
  },
  {
   "cell_type": "code",
   "execution_count": null,
   "id": "1dd94581-b371-44c2-9610-04f73f831a4f",
   "metadata": {},
   "outputs": [],
   "source": [
    "#encoding parameter\n",
    "pd.read_csv('csv files/zomato.csv',encoding='latin-1')\n"
   ]
  },
  {
   "cell_type": "code",
   "execution_count": null,
   "id": "0e3e0fa7-bd25-45e7-a204-23cdd206105f",
   "metadata": {},
   "outputs": [],
   "source": [
    "##skip bad lines\n",
    "pd.read_csv('csv files/aug_train.csv',on_bad_lines='skip')\n",
    "# does not give eror in bad lines instesd skips that line"
   ]
  },
  {
   "cell_type": "code",
   "execution_count": null,
   "id": "2491c5a0-2cf5-4722-b1e3-b9908cb52c70",
   "metadata": {},
   "outputs": [],
   "source": [
    "#dtypes parameter\n",
    "pd.read_csv('csv files/aug_train.csv').info()\n",
    "#here last col is in float which takkes more memory\n",
    "pd.read_csv('csv files/aug_train.csv',dtype={'target':int})"
   ]
  },
  {
   "cell_type": "code",
   "execution_count": null,
   "id": "9ba79bc8-84bc-4b9d-aba6-5283a4943e56",
   "metadata": {},
   "outputs": [],
   "source": [
    "#handeling dates\n",
    "pd.read_csv('csv files/IPL Matches 2008-2020.csv').info()\n",
    "#date is now a object or string we have to change it in date\n",
    "pd.read_csv('csv files/IPL Matches 2008-2020.csv',parse_dates=['date']).info()"
   ]
  },
  {
   "cell_type": "code",
   "execution_count": null,
   "id": "4a1c8fc4-cf16-4e05-9a48-1c4acf63573f",
   "metadata": {},
   "outputs": [],
   "source": [
    "#####Convertors ----used to apply some conversing operation on a colums\n",
    "\n",
    "def rename(name):\n",
    "    if(name=='Royal Challengers Bangalore'):\n",
    "        return 'RCB'\n",
    "    else:\n",
    "        return name\n",
    "pd.read_csv('csv files/IPL Matches 2008-2020.csv',converters={'team1':rename})"
   ]
  },
  {
   "cell_type": "code",
   "execution_count": null,
   "id": "c5a17ff3-b7ad-412f-b476-5d68f78a61f7",
   "metadata": {},
   "outputs": [],
   "source": [
    "######na_value parameter\n",
    "\n",
    "pd.read_csv('csv files/aug_train.csv',na_values=['Male'])\n",
    "#now male value will be replaced by nan\n"
   ]
  },
  {
   "cell_type": "code",
   "execution_count": 64,
   "id": "af4217b7-080c-4e51-b72d-1b407a57d8bd",
   "metadata": {},
   "outputs": [
    {
     "name": "stdout",
     "output_type": "stream",
     "text": [
      "(5000, 14)\n",
      "(5000, 14)\n",
      "(5000, 14)\n",
      "(4158, 14)\n"
     ]
    }
   ],
   "source": [
    "#loading a huge dataset in chunks\n",
    "dfs=pd.read_csv('csv files/aug_train.csv',chunksize=5000)\n",
    "for it in dfs:\n",
    "    print(it.shape)"
   ]
  },
  {
   "cell_type": "code",
   "execution_count": null,
   "id": "fbe07b65-3d28-4d70-ba56-a2bb870b32d3",
   "metadata": {},
   "outputs": [],
   "source": []
  }
 ],
 "metadata": {
  "kernelspec": {
   "display_name": "Python 3 (ipykernel)",
   "language": "python",
   "name": "python3"
  },
  "language_info": {
   "codemirror_mode": {
    "name": "ipython",
    "version": 3
   },
   "file_extension": ".py",
   "mimetype": "text/x-python",
   "name": "python",
   "nbconvert_exporter": "python",
   "pygments_lexer": "ipython3",
   "version": "3.12.7"
  }
 },
 "nbformat": 4,
 "nbformat_minor": 5
}
