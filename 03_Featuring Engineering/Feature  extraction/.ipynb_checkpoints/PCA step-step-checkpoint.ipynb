{
 "cells": [
  {
   "cell_type": "code",
   "execution_count": 10,
   "id": "e63fcd7f-c1f7-4820-aca4-ae4e3a340ef3",
   "metadata": {},
   "outputs": [],
   "source": [
    "\n",
    "import numpy as np\n",
    "import pandas as pd\n",
    "\n",
    "np.random.seed(23) \n",
    "\n",
    "mu_vec1 = np.array([0,0,0])\n",
    "cov_mat1 = np.array([[1,0,0],[0,1,0],[0,0,1]])\n",
    "df1 = pd.DataFrame(np.random.multivariate_normal(mu_vec1, cov_mat1, 20),columns=['f1','f2','f3'])\n",
    "df1['target']=1\n",
    "\n",
    "df2 =mu_vec1 = np.array([1,1,1])\n",
    "cov_mat2 = np.array([[1,0,0],[0,1,0],[0,0,1]])\n",
    "df2 = pd.DataFrame(np.random.multivariate_normal(mu_vec2, cov_mat2, 20),columns=['f1','f2','f3'])\n",
    "df2['target']=0\n",
    "df=pd.concat([df1,df2], axis=0,ignore_index=True)"
   ]
  },
  {
   "cell_type": "code",
   "execution_count": 61,
   "id": "b8b3ef70-5131-42ad-8a67-fc82baecc048",
   "metadata": {},
   "outputs": [
    {
     "data": {
      "text/html": [
       "<div>\n",
       "<style scoped>\n",
       "    .dataframe tbody tr th:only-of-type {\n",
       "        vertical-align: middle;\n",
       "    }\n",
       "\n",
       "    .dataframe tbody tr th {\n",
       "        vertical-align: top;\n",
       "    }\n",
       "\n",
       "    .dataframe thead th {\n",
       "        text-align: right;\n",
       "    }\n",
       "</style>\n",
       "<table border=\"1\" class=\"dataframe\">\n",
       "  <thead>\n",
       "    <tr style=\"text-align: right;\">\n",
       "      <th></th>\n",
       "      <th>f1</th>\n",
       "      <th>f2</th>\n",
       "      <th>f3</th>\n",
       "      <th>target</th>\n",
       "    </tr>\n",
       "  </thead>\n",
       "  <tbody>\n",
       "    <tr>\n",
       "      <th>0</th>\n",
       "      <td>-1.247471</td>\n",
       "      <td>-0.593851</td>\n",
       "      <td>0.461269</td>\n",
       "      <td>1</td>\n",
       "    </tr>\n",
       "    <tr>\n",
       "      <th>1</th>\n",
       "      <td>-1.011917</td>\n",
       "      <td>0.954984</td>\n",
       "      <td>-0.661960</td>\n",
       "      <td>0</td>\n",
       "    </tr>\n",
       "    <tr>\n",
       "      <th>2</th>\n",
       "      <td>-0.747423</td>\n",
       "      <td>-0.966733</td>\n",
       "      <td>-0.693369</td>\n",
       "      <td>1</td>\n",
       "    </tr>\n",
       "    <tr>\n",
       "      <th>3</th>\n",
       "      <td>-0.224481</td>\n",
       "      <td>-1.010757</td>\n",
       "      <td>0.491251</td>\n",
       "      <td>0</td>\n",
       "    </tr>\n",
       "    <tr>\n",
       "      <th>4</th>\n",
       "      <td>0.406862</td>\n",
       "      <td>-0.023700</td>\n",
       "      <td>0.134754</td>\n",
       "      <td>0</td>\n",
       "    </tr>\n",
       "  </tbody>\n",
       "</table>\n",
       "</div>"
      ],
      "text/plain": [
       "         f1        f2        f3  target\n",
       "0 -1.247471 -0.593851  0.461269       1\n",
       "1 -1.011917  0.954984 -0.661960       0\n",
       "2 -0.747423 -0.966733 -0.693369       1\n",
       "3 -0.224481 -1.010757  0.491251       0\n",
       "4  0.406862 -0.023700  0.134754       0"
      ]
     },
     "execution_count": 61,
     "metadata": {},
     "output_type": "execute_result"
    }
   ],
   "source": [
    "df=df.sample(40,ignore_index=True)\n",
    "df.head(5)"
   ]
  },
  {
   "cell_type": "markdown",
   "id": "fd329eca-e982-4277-b831-452c0cdc5673",
   "metadata": {},
   "source": [
    "### applying PCA "
   ]
  },
  {
   "cell_type": "code",
   "execution_count": 62,
   "id": "5f2192b2-e995-476e-b510-88506682162f",
   "metadata": {},
   "outputs": [
    {
     "data": {
      "text/html": [
       "<div>\n",
       "<style scoped>\n",
       "    .dataframe tbody tr th:only-of-type {\n",
       "        vertical-align: middle;\n",
       "    }\n",
       "\n",
       "    .dataframe tbody tr th {\n",
       "        vertical-align: top;\n",
       "    }\n",
       "\n",
       "    .dataframe thead th {\n",
       "        text-align: right;\n",
       "    }\n",
       "</style>\n",
       "<table border=\"1\" class=\"dataframe\">\n",
       "  <thead>\n",
       "    <tr style=\"text-align: right;\">\n",
       "      <th></th>\n",
       "      <th>f1</th>\n",
       "      <th>f2</th>\n",
       "      <th>f3</th>\n",
       "      <th>target</th>\n",
       "    </tr>\n",
       "  </thead>\n",
       "  <tbody>\n",
       "    <tr>\n",
       "      <th>0</th>\n",
       "      <td>-1.247471</td>\n",
       "      <td>-0.593851</td>\n",
       "      <td>0.461269</td>\n",
       "      <td>1</td>\n",
       "    </tr>\n",
       "    <tr>\n",
       "      <th>1</th>\n",
       "      <td>-1.011917</td>\n",
       "      <td>0.954984</td>\n",
       "      <td>-0.661960</td>\n",
       "      <td>0</td>\n",
       "    </tr>\n",
       "    <tr>\n",
       "      <th>2</th>\n",
       "      <td>-0.747423</td>\n",
       "      <td>-0.966733</td>\n",
       "      <td>-0.693369</td>\n",
       "      <td>1</td>\n",
       "    </tr>\n",
       "    <tr>\n",
       "      <th>3</th>\n",
       "      <td>-0.224481</td>\n",
       "      <td>-1.010757</td>\n",
       "      <td>0.491251</td>\n",
       "      <td>0</td>\n",
       "    </tr>\n",
       "    <tr>\n",
       "      <th>4</th>\n",
       "      <td>0.406862</td>\n",
       "      <td>-0.023700</td>\n",
       "      <td>0.134754</td>\n",
       "      <td>0</td>\n",
       "    </tr>\n",
       "  </tbody>\n",
       "</table>\n",
       "</div>"
      ],
      "text/plain": [
       "         f1        f2        f3  target\n",
       "0 -1.247471 -0.593851  0.461269       1\n",
       "1 -1.011917  0.954984 -0.661960       0\n",
       "2 -0.747423 -0.966733 -0.693369       1\n",
       "3 -0.224481 -1.010757  0.491251       0\n",
       "4  0.406862 -0.023700  0.134754       0"
      ]
     },
     "execution_count": 62,
     "metadata": {},
     "output_type": "execute_result"
    }
   ],
   "source": [
    "### 1-mean centric(not madatory but improve performance of pca)\n",
    "from sklearn.preprocessing import StandardScaler\n",
    "scaler=StandardScaler()\n",
    "df.iloc[:,0:3]=scaler.fit_transform(df.iloc[:,0:3])\n",
    "df.head()"
   ]
  },
  {
   "cell_type": "code",
   "execution_count": 63,
   "id": "8be2cac5-8f9f-4a8c-9bf7-b10d302ce615",
   "metadata": {},
   "outputs": [
    {
     "data": {
      "text/html": [
       "<div>\n",
       "<style scoped>\n",
       "    .dataframe tbody tr th:only-of-type {\n",
       "        vertical-align: middle;\n",
       "    }\n",
       "\n",
       "    .dataframe tbody tr th {\n",
       "        vertical-align: top;\n",
       "    }\n",
       "\n",
       "    .dataframe thead th {\n",
       "        text-align: right;\n",
       "    }\n",
       "</style>\n",
       "<table border=\"1\" class=\"dataframe\">\n",
       "  <thead>\n",
       "    <tr style=\"text-align: right;\">\n",
       "      <th></th>\n",
       "      <th>f1</th>\n",
       "      <th>f2</th>\n",
       "      <th>f3</th>\n",
       "    </tr>\n",
       "  </thead>\n",
       "  <tbody>\n",
       "    <tr>\n",
       "      <th>f1</th>\n",
       "      <td>1.025641</td>\n",
       "      <td>0.204781</td>\n",
       "      <td>0.080118</td>\n",
       "    </tr>\n",
       "    <tr>\n",
       "      <th>f2</th>\n",
       "      <td>0.204781</td>\n",
       "      <td>1.025641</td>\n",
       "      <td>0.198389</td>\n",
       "    </tr>\n",
       "    <tr>\n",
       "      <th>f3</th>\n",
       "      <td>0.080118</td>\n",
       "      <td>0.198389</td>\n",
       "      <td>1.025641</td>\n",
       "    </tr>\n",
       "  </tbody>\n",
       "</table>\n",
       "</div>"
      ],
      "text/plain": [
       "          f1        f2        f3\n",
       "f1  1.025641  0.204781  0.080118\n",
       "f2  0.204781  1.025641  0.198389\n",
       "f3  0.080118  0.198389  1.025641"
      ]
     },
     "execution_count": 63,
     "metadata": {},
     "output_type": "execute_result"
    }
   ],
   "source": [
    "## 2- Find co variance matrix\n",
    "x=pd.DataFrame(df.iloc[:,0:3],columns=['f1','f2','f3'])\n",
    "covmatrix=x.cov()\n",
    "covmatrix"
   ]
  },
  {
   "cell_type": "code",
   "execution_count": 64,
   "id": "13a85527-a849-427b-83a0-af3062bdc5e2",
   "metadata": {},
   "outputs": [
    {
     "data": {
      "text/plain": [
       "EigResult(eigenvalues=array([1.3536065 , 0.94557084, 0.77774573]), eigenvectors=array([[-0.53875915, -0.69363291,  0.47813384],\n",
       "       [-0.65608325, -0.01057596, -0.75461442],\n",
       "       [-0.52848211,  0.72025103,  0.44938304]]))"
      ]
     },
     "execution_count": 64,
     "metadata": {},
     "output_type": "execute_result"
    }
   ],
   "source": [
    "### 3-finding eign vector and values\n",
    "eigenresult=np.linalg.eig(covmatrix)\n",
    "eigenresult"
   ]
  },
  {
   "cell_type": "code",
   "execution_count": 65,
   "id": "b6b60597-1547-42ee-89f6-3150724adceb",
   "metadata": {},
   "outputs": [],
   "source": [
    "pc1=eigenresult.eigenvectors[0,:]\n",
    "pc2=eigenresult.eigenvectors[1,:]\n",
    "pc1=pc1/np.linalg.norm(pc1)\n",
    "pc2=pc2/np.linalg.norm(pc1)\n",
    "pc12=np.row_stack([pc1,pc2])\n"
   ]
  },
  {
   "cell_type": "code",
   "execution_count": 66,
   "id": "8289349e-20e8-409e-b4bb-7b9facac3a78",
   "metadata": {},
   "outputs": [],
   "source": [
    "##transformation\n",
    "x1=pd.DataFrame(np.dot(x,pc1.transpose()),columns=['Pc1'])\n",
    "x12=pd.DataFrame(np.dot(x,pc12.transpose()),columns=['Pc1','Pc2'])\n"
   ]
  },
  {
   "cell_type": "code",
   "execution_count": 67,
   "id": "7fed02ea-ad43-43d7-99e2-eb31fb213b18",
   "metadata": {},
   "outputs": [
    {
     "data": {
      "text/html": [
       "<div>\n",
       "<style scoped>\n",
       "    .dataframe tbody tr th:only-of-type {\n",
       "        vertical-align: middle;\n",
       "    }\n",
       "\n",
       "    .dataframe tbody tr th {\n",
       "        vertical-align: top;\n",
       "    }\n",
       "\n",
       "    .dataframe thead th {\n",
       "        text-align: right;\n",
       "    }\n",
       "</style>\n",
       "<table border=\"1\" class=\"dataframe\">\n",
       "  <thead>\n",
       "    <tr style=\"text-align: right;\">\n",
       "      <th></th>\n",
       "      <th>Pc1</th>\n",
       "      <th>target</th>\n",
       "    </tr>\n",
       "  </thead>\n",
       "  <tbody>\n",
       "    <tr>\n",
       "      <th>0</th>\n",
       "      <td>1.304549</td>\n",
       "      <td>1</td>\n",
       "    </tr>\n",
       "    <tr>\n",
       "      <th>1</th>\n",
       "      <td>-0.433734</td>\n",
       "      <td>0</td>\n",
       "    </tr>\n",
       "    <tr>\n",
       "      <th>2</th>\n",
       "      <td>0.741715</td>\n",
       "      <td>1</td>\n",
       "    </tr>\n",
       "    <tr>\n",
       "      <th>3</th>\n",
       "      <td>1.056919</td>\n",
       "      <td>0</td>\n",
       "    </tr>\n",
       "    <tr>\n",
       "      <th>4</th>\n",
       "      <td>-0.138331</td>\n",
       "      <td>0</td>\n",
       "    </tr>\n",
       "  </tbody>\n",
       "</table>\n",
       "</div>"
      ],
      "text/plain": [
       "        Pc1  target\n",
       "0  1.304549       1\n",
       "1 -0.433734       0\n",
       "2  0.741715       1\n",
       "3  1.056919       0\n",
       "4 -0.138331       0"
      ]
     },
     "execution_count": 67,
     "metadata": {},
     "output_type": "execute_result"
    }
   ],
   "source": [
    "x1['target']=df['target']\n",
    "x1.head()"
   ]
  },
  {
   "cell_type": "code",
   "execution_count": 68,
   "id": "5549af54-0d68-471a-b75a-a3f439be81e6",
   "metadata": {},
   "outputs": [
    {
     "data": {
      "text/html": [
       "<div>\n",
       "<style scoped>\n",
       "    .dataframe tbody tr th:only-of-type {\n",
       "        vertical-align: middle;\n",
       "    }\n",
       "\n",
       "    .dataframe tbody tr th {\n",
       "        vertical-align: top;\n",
       "    }\n",
       "\n",
       "    .dataframe thead th {\n",
       "        text-align: right;\n",
       "    }\n",
       "</style>\n",
       "<table border=\"1\" class=\"dataframe\">\n",
       "  <thead>\n",
       "    <tr style=\"text-align: right;\">\n",
       "      <th></th>\n",
       "      <th>Pc1</th>\n",
       "      <th>Pc2</th>\n",
       "      <th>target</th>\n",
       "    </tr>\n",
       "  </thead>\n",
       "  <tbody>\n",
       "    <tr>\n",
       "      <th>0</th>\n",
       "      <td>1.304549</td>\n",
       "      <td>0.476645</td>\n",
       "      <td>1</td>\n",
       "    </tr>\n",
       "    <tr>\n",
       "      <th>1</th>\n",
       "      <td>-0.433734</td>\n",
       "      <td>1.153326</td>\n",
       "      <td>0</td>\n",
       "    </tr>\n",
       "    <tr>\n",
       "      <th>2</th>\n",
       "      <td>0.741715</td>\n",
       "      <td>1.023822</td>\n",
       "      <td>1</td>\n",
       "    </tr>\n",
       "    <tr>\n",
       "      <th>3</th>\n",
       "      <td>1.056919</td>\n",
       "      <td>-0.212737</td>\n",
       "      <td>0</td>\n",
       "    </tr>\n",
       "    <tr>\n",
       "      <th>4</th>\n",
       "      <td>-0.138331</td>\n",
       "      <td>-0.368372</td>\n",
       "      <td>0</td>\n",
       "    </tr>\n",
       "  </tbody>\n",
       "</table>\n",
       "</div>"
      ],
      "text/plain": [
       "        Pc1       Pc2  target\n",
       "0  1.304549  0.476645       1\n",
       "1 -0.433734  1.153326       0\n",
       "2  0.741715  1.023822       1\n",
       "3  1.056919 -0.212737       0\n",
       "4 -0.138331 -0.368372       0"
      ]
     },
     "execution_count": 68,
     "metadata": {},
     "output_type": "execute_result"
    }
   ],
   "source": [
    "x12['target']=df['target']\n",
    "x12.head()\n",
    "\n"
   ]
  },
  {
   "cell_type": "code",
   "execution_count": 69,
   "id": "44732ce4-4da6-44d8-9d36-57aaef2082a5",
   "metadata": {},
   "outputs": [],
   "source": [
    "import seaborn as sns\n"
   ]
  },
  {
   "cell_type": "code",
   "execution_count": 72,
   "id": "34b87426-b5d1-4f88-b85a-939556699e7e",
   "metadata": {},
   "outputs": [
    {
     "data": {
      "text/plain": [
       "<Axes: xlabel='Pc1', ylabel='Pc2'>"
      ]
     },
     "execution_count": 72,
     "metadata": {},
     "output_type": "execute_result"
    },
    {
     "data": {
      "image/png": "[encoded data removed]",
      "text/plain": [
       "<Figure size 640x480 with 1 Axes>"
      ]
     },
     "metadata": {},
     "output_type": "display_data"
    }
   ],
   "source": [
    "sns.scatterplot(x=x12['Pc1'],y=x12['Pc2'])"
   ]
  },
  {
   "cell_type": "code",
   "execution_count": null,
   "id": "aa5fa4ec-02ac-477c-bbb8-8874dac9f4eb",
   "metadata": {},
   "outputs": [],
   "source": []
  },
  {
   "cell_type": "code",
   "execution_count": null,
   "id": "b344cef4-536b-41fa-a95a-f5e61181b7db",
   "metadata": {},
   "outputs": [],
   "source": []
  },
  {
   "cell_type": "code",
   "execution_count": null,
   "id": "6c008a45-39bd-4827-8fb2-11b5a2daec0f",
   "metadata": {},
   "outputs": [],
   "source": []
  },
  {
   "cell_type": "code",
   "execution_count": null,
   "id": "2a4246b2-ce95-4bab-a01c-41b7e989b33e",
   "metadata": {},
   "outputs": [],
   "source": []
  },
  {
   "cell_type": "code",
   "execution_count": null,
   "id": "a3ceed79-def9-4bae-8a08-8f6a23f035dd",
   "metadata": {},
   "outputs": [],
   "source": []
  }
 ],
 "metadata": {
  "kernelspec": {
   "display_name": "Python 3 (ipykernel)",
   "language": "python",
   "name": "python3"
  },
  "language_info": {
   "codemirror_mode": {
    "name": "ipython",
    "version": 3
   },
   "file_extension": ".py",
   "mimetype": "text/x-python",
   "name": "python",
   "nbconvert_exporter": "python",
   "pygments_lexer": "ipython3",
   "version": "3.12.7"
  }
 },
 "nbformat": 4,
 "nbformat_minor": 5
}
