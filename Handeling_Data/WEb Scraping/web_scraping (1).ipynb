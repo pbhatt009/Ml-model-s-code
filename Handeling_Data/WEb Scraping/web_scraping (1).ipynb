{
 "cells": [
  {
   "cell_type": "code",
   "execution_count": 53,
   "id": "e71631cb-96b5-4b90-9c8a-cf7151bdaab9",
   "metadata": {},
   "outputs": [],
   "source": [
    "import pandas as pd\n",
    "import requests\n",
    "from bs4 import BeautifulSoup\n",
    "import numpy as np"
   ]
  },
  {
   "cell_type": "code",
   "execution_count": null,
   "id": "8831694e-2307-4572-8273-2d85f42a4e97",
   "metadata": {},
   "outputs": [],
   "source": [
    "pip install requests"
   ]
  },
  {
   "cell_type": "code",
   "execution_count": null,
   "id": "ff23ec92-2306-4c50-b897-f11f39e663a7",
   "metadata": {
    "scrolled": true
   },
   "outputs": [],
   "source": [
    "# headers={'User-Agent':'Mozilla/5.0 (Windows NT 6.3; Win 64 ; x64) Apple WeKit /537.36(KHTML , like Gecko) Chrome/80.0.3987.162 Safari/537.36'}\n",
    "# requests.get('https://www.imdb.com/chart/top/').text\n",
    "with open('online_viewer_net (1).html', 'r', encoding='utf-8') as file:\n",
    "    content = file.read()\n",
    "    print(content)\n"
   ]
  },
  {
   "cell_type": "code",
   "execution_count": null,
   "id": "1ce95a63-bb9f-40e2-be14-3c0b96e9204a",
   "metadata": {},
   "outputs": [],
   "source": [
    "soup=BeautifulSoup(content,\"html.parser\")\n",
    "print(soup)"
   ]
  },
  {
   "cell_type": "code",
   "execution_count": null,
   "id": "a99c1451-f8f9-4add-9430-6052564b9375",
   "metadata": {
    "scrolled": true
   },
   "outputs": [],
   "source": [
    "print(soup.prettify())"
   ]
  },
  {
   "cell_type": "code",
   "execution_count": 49,
   "id": "93b964f8-2738-4e43-8804-7b9b8e9c1b2f",
   "metadata": {},
   "outputs": [
    {
     "name": "stdout",
     "output_type": "stream",
     "text": [
      "['The Shawshank Redemption', 'The Godfather', 'The Dark Knight', 'The Godfather Part II', '12 Angry Men', 'The Lord of the Rings: The Return of the King', \"Schindler's List\", 'Pulp Fiction', 'The Lord of the Rings: The Fellowship of the Ring', 'The Good, the Bad and the Ugly', 'Forrest Gump', 'The Lord of the Rings: The Two Towers', 'Fight Club', 'Inception', 'Star Wars: Episode V - The Empire Strikes Back', 'The Matrix', 'GoodFellas', 'Interstellar', \"One Flew Over the Cuckoo's Nest\", 'Seven', \"It's a Wonderful Life\", 'The Silence of the Lambs', 'Seven Samurai', 'Saving Private Ryan', 'City of God']\n"
     ]
    }
   ],
   "source": [
    "name=soup.find_all('h3')\n",
    "name=name[1:-1]\n",
    "n=len(name)\n",
    "for i in range(0,n):\n",
    "    name[i]=(name[i].text.split('.')[1].lstrip())\n",
    "print(name)\n",
    "\n"
   ]
  },
  {
   "cell_type": "code",
   "execution_count": 50,
   "id": "1a7be026-735d-477e-8cb8-74872a00b03c",
   "metadata": {},
   "outputs": [
    {
     "name": "stdout",
     "output_type": "stream",
     "text": [
      "['9.3', '9.2', '9.0', '9.0', '9.0', '9.0', '9.0', '8.9', '8.9', '8.8', '8.8', '8.8', '8.8', '8.8', '8.7', '8.7', '8.7', '8.7', '8.7', '8.6', '8.6', '8.6', '8.6', '8.6', '8.6']\n"
     ]
    }
   ],
   "source": [
    "rating=soup.find_all(class_='ipc-rating-star--rating')\n",
    "n=len(rating)\n",
    "for i in range(0,n):\n",
    "    rating[i]=rating[i].text\n",
    "print(rating)"
   ]
  },
  {
   "cell_type": "code",
   "execution_count": 68,
   "id": "36ce2f1d-db38-4819-a9c1-d5014ecf6895",
   "metadata": {},
   "outputs": [
    {
     "name": "stdout",
     "output_type": "stream",
     "text": [
      "['3.1M', '2.1M', '3M', '1.4M', '930K', '2.1M', '1.5M', '2.3M', '2.1M', '857K', '2.4M', '1.9M', '2.5M', '2.7M', '1.4M', '2.2M', '1.3M', '2.4M', '1.1M', '1.9M', '529K', '1.6M', '386K', '1.6M', '839K']\n"
     ]
    }
   ],
   "source": [
    "ratingcount=soup.find_all(class_='ipc-rating-star--voteCount')\n",
    "n=len(ratingcount)\n",
    "for i in range(0,n):\n",
    "    ratingcount[i]=ratingcount[i].text.split('(')[1].split(')')[0]\n",
    "print(ratingcount)"
   ]
  },
  {
   "cell_type": "code",
   "execution_count": 69,
   "id": "afb90348-7686-451e-af35-642893b671ae",
   "metadata": {},
   "outputs": [
    {
     "name": "stdout",
     "output_type": "stream",
     "text": [
      "['2h 22m', '2h 55m', '2h 32m', '3h 22m', '1h 36m', '3h 21m', '3h 15m', '2h 34m', '2h 58m', '2h 28m', '2h 22m', '2h 59m', '2h 19m', '2h 28m', '2h 4m', '2h 16m', '2h 25m', '2h 49m', '2h 13m', '2h 7m', '2h 10m', '1h 58m', '3h 27m', '2h 49m', '2h 10m']\n",
      "['1994', '1972', '2008', '1974', '1957', '2003', '1993', '1994', '2001', '1966', '1994', '2002', '1999', '2010', '1980', '1999', '1990', '2014', '1975', '1995', '1946', '1991', '1954', '1998', '2002']\n",
      "['2h 22m', '2h 55m', '2h 32m', '3h 22m', '1h 36m', '3h 21m', '3h 15m', '2h 34m', '2h 58m', '2h 28m', '2h 22m', '2h 59m', '2h 19m', '2h 28m', '2h 4m', '2h 16m', '2h 25m', '2h 49m', '2h 13m', '2h 7m', '2h 10m', '1h 58m', '3h 27m', '2h 49m', '2h 10m']\n"
     ]
    }
   ],
   "source": [
    "other=soup.find_all(class_='sc-4b408797-8 iurwGb cli-title-metadata-item')\n",
    " \n",
    "releaseyear=other[0::3]\n",
    "duration=other[1::3]\n",
    "rated=other[2::3]\n",
    "n=len(rated)\n",
    "for i in range(0,n):\n",
    "    releaseyear[i]=releaseyear[i].text\n",
    "    duration[i]=duration[i].text\n",
    "    rated[i]=rated[i].text\n",
    "    # print(len(durati\n",
    "print(duration)\n",
    "print(releaseyear)\n",
    "print(duration)"
   ]
  },
  {
   "cell_type": "code",
   "execution_count": 70,
   "id": "45df63b8-a918-436b-8085-6b14841cd066",
   "metadata": {},
   "outputs": [],
   "source": [
    "result=np.column_stack((name,rating,ratingcount,duration,releaseyear,rated))\n",
    "finaldata=pd.DataFrame(result,columns=[\"Name\",\"Rating\",\"RatingCount\",\"Duration\",\"Release Year\",\"Rated\"])"
   ]
  },
  {
   "cell_type": "code",
   "execution_count": 71,
   "id": "c7fbabf2-8abc-4061-b20f-e7f79f258990",
   "metadata": {},
   "outputs": [
    {
     "name": "stdout",
     "output_type": "stream",
     "text": [
      "                                                 Name Rating RatingCount  \\\n",
      "0                            The Shawshank Redemption    9.3        3.1M   \n",
      "1                                       The Godfather    9.2        2.1M   \n",
      "2                                     The Dark Knight    9.0          3M   \n",
      "3                               The Godfather Part II    9.0        1.4M   \n",
      "4                                        12 Angry Men    9.0        930K   \n",
      "5       The Lord of the Rings: The Return of the King    9.0        2.1M   \n",
      "6                                    Schindler's List    9.0        1.5M   \n",
      "7                                        Pulp Fiction    8.9        2.3M   \n",
      "8   The Lord of the Rings: The Fellowship of the Ring    8.9        2.1M   \n",
      "9                      The Good, the Bad and the Ugly    8.8        857K   \n",
      "10                                       Forrest Gump    8.8        2.4M   \n",
      "11              The Lord of the Rings: The Two Towers    8.8        1.9M   \n",
      "12                                         Fight Club    8.8        2.5M   \n",
      "13                                          Inception    8.8        2.7M   \n",
      "14     Star Wars: Episode V - The Empire Strikes Back    8.7        1.4M   \n",
      "15                                         The Matrix    8.7        2.2M   \n",
      "16                                         GoodFellas    8.7        1.3M   \n",
      "17                                       Interstellar    8.7        2.4M   \n",
      "18                    One Flew Over the Cuckoo's Nest    8.7        1.1M   \n",
      "19                                              Seven    8.6        1.9M   \n",
      "20                              It's a Wonderful Life    8.6        529K   \n",
      "21                           The Silence of the Lambs    8.6        1.6M   \n",
      "22                                      Seven Samurai    8.6        386K   \n",
      "23                                Saving Private Ryan    8.6        1.6M   \n",
      "24                                        City of God    8.6        839K   \n",
      "\n",
      "   Duration Release Year Rated  \n",
      "0    2h 22m         1994    15  \n",
      "1    2h 55m         1972    15  \n",
      "2    2h 32m         2008   12A  \n",
      "3    3h 22m         1974     X  \n",
      "4    1h 36m         1957     U  \n",
      "5    3h 21m         2003   12A  \n",
      "6    3h 15m         1993    15  \n",
      "7    2h 34m         1994    18  \n",
      "8    2h 58m         2001    PG  \n",
      "9    2h 28m         1966    18  \n",
      "10   2h 22m         1994    12  \n",
      "11   2h 59m         2002   12A  \n",
      "12   2h 19m         1999    15  \n",
      "13   2h 28m         2010   12A  \n",
      "14    2h 4m         1980     U  \n",
      "15   2h 16m         1999    15  \n",
      "16   2h 25m         1990    18  \n",
      "17   2h 49m         2014   12A  \n",
      "18   2h 13m         1975     X  \n",
      "19    2h 7m         1995    18  \n",
      "20   2h 10m         1946     U  \n",
      "21   1h 58m         1991    18  \n",
      "22   3h 27m         1954     A  \n",
      "23   2h 49m         1998    15  \n",
      "24   2h 10m         2002    18  \n"
     ]
    }
   ],
   "source": [
    "print(finaldata)"
   ]
  },
  {
   "cell_type": "code",
   "execution_count": 73,
   "id": "669dcb8e-ba2a-44ed-a58c-d5af9d959a03",
   "metadata": {},
   "outputs": [],
   "source": [
    "finaldata.to_csv('imdbTop250.csv',index=False)"
   ]
  },
  {
   "cell_type": "code",
   "execution_count": null,
   "id": "41533c7c-c6f1-47c4-bf83-16730a918850",
   "metadata": {},
   "outputs": [],
   "source": []
  },
  {
   "cell_type": "code",
   "execution_count": null,
   "id": "cf7fa1cc-097d-49f5-9145-54e1504a8e05",
   "metadata": {},
   "outputs": [],
   "source": []
  }
 ],
 "metadata": {
  "kernelspec": {
   "display_name": "Python 3 (ipykernel)",
   "language": "python",
   "name": "python3"
  },
  "language_info": {
   "codemirror_mode": {
    "name": "ipython",
    "version": 3
   },
   "file_extension": ".py",
   "mimetype": "text/x-python",
   "name": "python",
   "nbconvert_exporter": "python",
   "pygments_lexer": "ipython3",
   "version": "3.12.7"
  }
 },
 "nbformat": 4,
 "nbformat_minor": 5
}
