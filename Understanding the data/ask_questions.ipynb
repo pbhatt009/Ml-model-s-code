{
 "cells": [
  {
   "cell_type": "code",
   "execution_count": 1,
   "id": "2dba1127-0083-4f07-a489-c0684efcaf61",
   "metadata": {},
   "outputs": [],
   "source": [
    "import pandas as pd"
   ]
  },
  {
   "cell_type": "code",
   "execution_count": 28,
   "id": "f1a54bb8-05b3-4cea-83fc-536df7601371",
   "metadata": {},
   "outputs": [],
   "source": [
    "df=pd.read_csv('train_and_test2.csv')"
   ]
  },
  {
   "cell_type": "markdown",
   "id": "2cd25892-3666-40d3-86b1-b220a020310a",
   "metadata": {},
   "source": [
    "**1.How big is data?**"
   ]
  },
  {
   "cell_type": "code",
   "execution_count": 29,
   "id": "c6cdba79-8710-4868-9024-c4f877d14a87",
   "metadata": {},
   "outputs": [
    {
     "data": {
      "text/plain": [
       "(1309, 28)"
      ]
     },
     "execution_count": 29,
     "metadata": {},
     "output_type": "execute_result"
    }
   ],
   "source": [
    "df.shape"
   ]
  },
  {
   "cell_type": "markdown",
   "id": "2fb17d7b-16cf-4da5-8b37-2dc0f349f4be",
   "metadata": {},
   "source": [
    "**2.how data looks?**"
   ]
  },
  {
   "cell_type": "code",
   "execution_count": 30,
   "id": "f173b45c-6ea5-432c-be79-574092d0b3dd",
   "metadata": {},
   "outputs": [
    {
     "data": {
      "text/html": [
       "<div>\n",
       "<style scoped>\n",
       "    .dataframe tbody tr th:only-of-type {\n",
       "        vertical-align: middle;\n",
       "    }\n",
       "\n",
       "    .dataframe tbody tr th {\n",
       "        vertical-align: top;\n",
       "    }\n",
       "\n",
       "    .dataframe thead th {\n",
       "        text-align: right;\n",
       "    }\n",
       "</style>\n",
       "<table border=\"1\" class=\"dataframe\">\n",
       "  <thead>\n",
       "    <tr style=\"text-align: right;\">\n",
       "      <th></th>\n",
       "      <th>Passengerid</th>\n",
       "      <th>Age</th>\n",
       "      <th>Fare</th>\n",
       "      <th>Sex</th>\n",
       "      <th>Pclass</th>\n",
       "      <th>Embarked</th>\n",
       "      <th>Survived</th>\n",
       "    </tr>\n",
       "  </thead>\n",
       "  <tbody>\n",
       "    <tr>\n",
       "      <th>806</th>\n",
       "      <td>807</td>\n",
       "      <td>39.0</td>\n",
       "      <td>0.0000</td>\n",
       "      <td>0</td>\n",
       "      <td>1</td>\n",
       "      <td>2.0</td>\n",
       "      <td>0</td>\n",
       "    </tr>\n",
       "    <tr>\n",
       "      <th>258</th>\n",
       "      <td>259</td>\n",
       "      <td>35.0</td>\n",
       "      <td>512.3292</td>\n",
       "      <td>1</td>\n",
       "      <td>1</td>\n",
       "      <td>0.0</td>\n",
       "      <td>1</td>\n",
       "    </tr>\n",
       "    <tr>\n",
       "      <th>867</th>\n",
       "      <td>868</td>\n",
       "      <td>31.0</td>\n",
       "      <td>50.4958</td>\n",
       "      <td>0</td>\n",
       "      <td>1</td>\n",
       "      <td>2.0</td>\n",
       "      <td>0</td>\n",
       "    </tr>\n",
       "    <tr>\n",
       "      <th>188</th>\n",
       "      <td>189</td>\n",
       "      <td>40.0</td>\n",
       "      <td>15.5000</td>\n",
       "      <td>0</td>\n",
       "      <td>3</td>\n",
       "      <td>1.0</td>\n",
       "      <td>0</td>\n",
       "    </tr>\n",
       "    <tr>\n",
       "      <th>303</th>\n",
       "      <td>304</td>\n",
       "      <td>28.0</td>\n",
       "      <td>12.3500</td>\n",
       "      <td>1</td>\n",
       "      <td>2</td>\n",
       "      <td>1.0</td>\n",
       "      <td>1</td>\n",
       "    </tr>\n",
       "  </tbody>\n",
       "</table>\n",
       "</div>"
      ],
      "text/plain": [
       "     Passengerid   Age      Fare  Sex  Pclass  Embarked  Survived\n",
       "806          807  39.0    0.0000    0       1       2.0         0\n",
       "258          259  35.0  512.3292    1       1       0.0         1\n",
       "867          868  31.0   50.4958    0       1       2.0         0\n",
       "188          189  40.0   15.5000    0       3       1.0         0\n",
       "303          304  28.0   12.3500    1       2       1.0         1"
      ]
     },
     "execution_count": 30,
     "metadata": {},
     "output_type": "execute_result"
    }
   ],
   "source": [
    "\n",
    "# remove unnceesrly coloumn\n",
    "df=df[['Passengerid','Age','Fare','Sex','Pclass','Embarked','2urvived']]\n",
    "df=df.rename(columns={'2urvived':'Survived'})\n",
    "df.sample(5)\n",
    "\n"
   ]
  },
  {
   "cell_type": "markdown",
   "id": "59fed40f-c16a-4748-b745-d191f14bcbe5",
   "metadata": {},
   "source": [
    "**3.what is data type?**\n"
   ]
  },
  {
   "cell_type": "code",
   "execution_count": 31,
   "id": "1a2bcd07-0c32-40d5-8e23-dc20492cf9a9",
   "metadata": {},
   "outputs": [
    {
     "name": "stdout",
     "output_type": "stream",
     "text": [
      "<class 'pandas.core.frame.DataFrame'>\n",
      "RangeIndex: 1309 entries, 0 to 1308\n",
      "Data columns (total 7 columns):\n",
      " #   Column       Non-Null Count  Dtype  \n",
      "---  ------       --------------  -----  \n",
      " 0   Passengerid  1309 non-null   int64  \n",
      " 1   Age          1309 non-null   float64\n",
      " 2   Fare         1309 non-null   float64\n",
      " 3   Sex          1309 non-null   int64  \n",
      " 4   Pclass       1309 non-null   int64  \n",
      " 5   Embarked     1307 non-null   float64\n",
      " 6   Survived     1309 non-null   int64  \n",
      "dtypes: float64(3), int64(4)\n",
      "memory usage: 71.7 KB\n"
     ]
    }
   ],
   "source": [
    "df.info()\n",
    "# convert unneccesay float values into int"
   ]
  },
  {
   "cell_type": "markdown",
   "id": "f5b8d46b-3c20-4b01-a508-0bf0a00138ad",
   "metadata": {},
   "source": [
    "**4.Missing values?**"
   ]
  },
  {
   "cell_type": "code",
   "execution_count": 32,
   "id": "4d12c507-5bb6-4945-8e02-9c08f92bcf73",
   "metadata": {},
   "outputs": [
    {
     "data": {
      "text/plain": [
       "Passengerid    0\n",
       "Age            0\n",
       "Fare           0\n",
       "Sex            0\n",
       "Pclass         0\n",
       "Embarked       2\n",
       "Survived       0\n",
       "dtype: int64"
      ]
     },
     "execution_count": 32,
     "metadata": {},
     "output_type": "execute_result"
    }
   ],
   "source": [
    "df.isnull().sum()"
   ]
  },
  {
   "cell_type": "markdown",
   "id": "3e8ff71f-75d8-4491-8518-56f9e71f1ce6",
   "metadata": {},
   "source": [
    "**5.How data Looks Mathematical?**\n"
   ]
  },
  {
   "cell_type": "code",
   "execution_count": 33,
   "id": "19f7defe-228e-4cd7-99aa-783ef871d21b",
   "metadata": {},
   "outputs": [
    {
     "data": {
      "text/html": [
       "<div>\n",
       "<style scoped>\n",
       "    .dataframe tbody tr th:only-of-type {\n",
       "        vertical-align: middle;\n",
       "    }\n",
       "\n",
       "    .dataframe tbody tr th {\n",
       "        vertical-align: top;\n",
       "    }\n",
       "\n",
       "    .dataframe thead th {\n",
       "        text-align: right;\n",
       "    }\n",
       "</style>\n",
       "<table border=\"1\" class=\"dataframe\">\n",
       "  <thead>\n",
       "    <tr style=\"text-align: right;\">\n",
       "      <th></th>\n",
       "      <th>Passengerid</th>\n",
       "      <th>Age</th>\n",
       "      <th>Fare</th>\n",
       "      <th>Sex</th>\n",
       "      <th>Pclass</th>\n",
       "      <th>Embarked</th>\n",
       "      <th>Survived</th>\n",
       "    </tr>\n",
       "  </thead>\n",
       "  <tbody>\n",
       "    <tr>\n",
       "      <th>count</th>\n",
       "      <td>1309.000000</td>\n",
       "      <td>1309.000000</td>\n",
       "      <td>1309.000000</td>\n",
       "      <td>1309.000000</td>\n",
       "      <td>1309.000000</td>\n",
       "      <td>1307.000000</td>\n",
       "      <td>1309.000000</td>\n",
       "    </tr>\n",
       "    <tr>\n",
       "      <th>mean</th>\n",
       "      <td>655.000000</td>\n",
       "      <td>29.503186</td>\n",
       "      <td>33.281086</td>\n",
       "      <td>0.355997</td>\n",
       "      <td>2.294882</td>\n",
       "      <td>1.492731</td>\n",
       "      <td>0.261268</td>\n",
       "    </tr>\n",
       "    <tr>\n",
       "      <th>std</th>\n",
       "      <td>378.020061</td>\n",
       "      <td>12.905241</td>\n",
       "      <td>51.741500</td>\n",
       "      <td>0.478997</td>\n",
       "      <td>0.837836</td>\n",
       "      <td>0.814626</td>\n",
       "      <td>0.439494</td>\n",
       "    </tr>\n",
       "    <tr>\n",
       "      <th>min</th>\n",
       "      <td>1.000000</td>\n",
       "      <td>0.170000</td>\n",
       "      <td>0.000000</td>\n",
       "      <td>0.000000</td>\n",
       "      <td>1.000000</td>\n",
       "      <td>0.000000</td>\n",
       "      <td>0.000000</td>\n",
       "    </tr>\n",
       "    <tr>\n",
       "      <th>25%</th>\n",
       "      <td>328.000000</td>\n",
       "      <td>22.000000</td>\n",
       "      <td>7.895800</td>\n",
       "      <td>0.000000</td>\n",
       "      <td>2.000000</td>\n",
       "      <td>1.000000</td>\n",
       "      <td>0.000000</td>\n",
       "    </tr>\n",
       "    <tr>\n",
       "      <th>50%</th>\n",
       "      <td>655.000000</td>\n",
       "      <td>28.000000</td>\n",
       "      <td>14.454200</td>\n",
       "      <td>0.000000</td>\n",
       "      <td>3.000000</td>\n",
       "      <td>2.000000</td>\n",
       "      <td>0.000000</td>\n",
       "    </tr>\n",
       "    <tr>\n",
       "      <th>75%</th>\n",
       "      <td>982.000000</td>\n",
       "      <td>35.000000</td>\n",
       "      <td>31.275000</td>\n",
       "      <td>1.000000</td>\n",
       "      <td>3.000000</td>\n",
       "      <td>2.000000</td>\n",
       "      <td>1.000000</td>\n",
       "    </tr>\n",
       "    <tr>\n",
       "      <th>max</th>\n",
       "      <td>1309.000000</td>\n",
       "      <td>80.000000</td>\n",
       "      <td>512.329200</td>\n",
       "      <td>1.000000</td>\n",
       "      <td>3.000000</td>\n",
       "      <td>2.000000</td>\n",
       "      <td>1.000000</td>\n",
       "    </tr>\n",
       "  </tbody>\n",
       "</table>\n",
       "</div>"
      ],
      "text/plain": [
       "       Passengerid          Age         Fare          Sex       Pclass  \\\n",
       "count  1309.000000  1309.000000  1309.000000  1309.000000  1309.000000   \n",
       "mean    655.000000    29.503186    33.281086     0.355997     2.294882   \n",
       "std     378.020061    12.905241    51.741500     0.478997     0.837836   \n",
       "min       1.000000     0.170000     0.000000     0.000000     1.000000   \n",
       "25%     328.000000    22.000000     7.895800     0.000000     2.000000   \n",
       "50%     655.000000    28.000000    14.454200     0.000000     3.000000   \n",
       "75%     982.000000    35.000000    31.275000     1.000000     3.000000   \n",
       "max    1309.000000    80.000000   512.329200     1.000000     3.000000   \n",
       "\n",
       "          Embarked     Survived  \n",
       "count  1307.000000  1309.000000  \n",
       "mean      1.492731     0.261268  \n",
       "std       0.814626     0.439494  \n",
       "min       0.000000     0.000000  \n",
       "25%       1.000000     0.000000  \n",
       "50%       2.000000     0.000000  \n",
       "75%       2.000000     1.000000  \n",
       "max       2.000000     1.000000  "
      ]
     },
     "execution_count": 33,
     "metadata": {},
     "output_type": "execute_result"
    }
   ],
   "source": [
    "df.describe()"
   ]
  },
  {
   "cell_type": "markdown",
   "id": "f403b78f-8ddc-46c9-98fe-89a9373e47a7",
   "metadata": {},
   "source": [
    "**6.Duplicate Values**"
   ]
  },
  {
   "cell_type": "code",
   "execution_count": 35,
   "id": "fd93ad9b-5258-40a5-b726-6ec4c6913741",
   "metadata": {},
   "outputs": [
    {
     "data": {
      "text/plain": [
       "0"
      ]
     },
     "execution_count": 35,
     "metadata": {},
     "output_type": "execute_result"
    }
   ],
   "source": [
    "df.duplicated().sum()"
   ]
  },
  {
   "cell_type": "markdown",
   "id": "a71afdc5-d620-4df8-9897-58fc8a1bd07e",
   "metadata": {},
   "source": [
    "**7.How is the corealtion between cols?**"
   ]
  },
  {
   "cell_type": "code",
   "execution_count": 36,
   "id": "a3eb52ee-f290-41c5-9750-21f4fdbda964",
   "metadata": {},
   "outputs": [
    {
     "data": {
      "text/html": [
       "<div>\n",
       "<style scoped>\n",
       "    .dataframe tbody tr th:only-of-type {\n",
       "        vertical-align: middle;\n",
       "    }\n",
       "\n",
       "    .dataframe tbody tr th {\n",
       "        vertical-align: top;\n",
       "    }\n",
       "\n",
       "    .dataframe thead th {\n",
       "        text-align: right;\n",
       "    }\n",
       "</style>\n",
       "<table border=\"1\" class=\"dataframe\">\n",
       "  <thead>\n",
       "    <tr style=\"text-align: right;\">\n",
       "      <th></th>\n",
       "      <th>Passengerid</th>\n",
       "      <th>Age</th>\n",
       "      <th>Fare</th>\n",
       "      <th>Sex</th>\n",
       "      <th>Pclass</th>\n",
       "      <th>Embarked</th>\n",
       "      <th>Survived</th>\n",
       "    </tr>\n",
       "  </thead>\n",
       "  <tbody>\n",
       "    <tr>\n",
       "      <th>Passengerid</th>\n",
       "      <td>1.000000</td>\n",
       "      <td>0.025799</td>\n",
       "      <td>0.031128</td>\n",
       "      <td>-0.013406</td>\n",
       "      <td>-0.038354</td>\n",
       "      <td>-0.051518</td>\n",
       "      <td>-0.331493</td>\n",
       "    </tr>\n",
       "    <tr>\n",
       "      <th>Age</th>\n",
       "      <td>0.025799</td>\n",
       "      <td>1.000000</td>\n",
       "      <td>0.178182</td>\n",
       "      <td>-0.053663</td>\n",
       "      <td>-0.377908</td>\n",
       "      <td>-0.065125</td>\n",
       "      <td>-0.055862</td>\n",
       "    </tr>\n",
       "    <tr>\n",
       "      <th>Fare</th>\n",
       "      <td>0.031128</td>\n",
       "      <td>0.178182</td>\n",
       "      <td>1.000000</td>\n",
       "      <td>0.185681</td>\n",
       "      <td>-0.558683</td>\n",
       "      <td>-0.239212</td>\n",
       "      <td>0.173786</td>\n",
       "    </tr>\n",
       "    <tr>\n",
       "      <th>Sex</th>\n",
       "      <td>-0.013406</td>\n",
       "      <td>-0.053663</td>\n",
       "      <td>0.185681</td>\n",
       "      <td>1.000000</td>\n",
       "      <td>-0.124617</td>\n",
       "      <td>-0.099408</td>\n",
       "      <td>0.404020</td>\n",
       "    </tr>\n",
       "    <tr>\n",
       "      <th>Pclass</th>\n",
       "      <td>-0.038354</td>\n",
       "      <td>-0.377908</td>\n",
       "      <td>-0.558683</td>\n",
       "      <td>-0.124617</td>\n",
       "      <td>1.000000</td>\n",
       "      <td>0.187349</td>\n",
       "      <td>-0.244686</td>\n",
       "    </tr>\n",
       "    <tr>\n",
       "      <th>Embarked</th>\n",
       "      <td>-0.051518</td>\n",
       "      <td>-0.065125</td>\n",
       "      <td>-0.239212</td>\n",
       "      <td>-0.099408</td>\n",
       "      <td>0.187349</td>\n",
       "      <td>1.000000</td>\n",
       "      <td>-0.093225</td>\n",
       "    </tr>\n",
       "    <tr>\n",
       "      <th>Survived</th>\n",
       "      <td>-0.331493</td>\n",
       "      <td>-0.055862</td>\n",
       "      <td>0.173786</td>\n",
       "      <td>0.404020</td>\n",
       "      <td>-0.244686</td>\n",
       "      <td>-0.093225</td>\n",
       "      <td>1.000000</td>\n",
       "    </tr>\n",
       "  </tbody>\n",
       "</table>\n",
       "</div>"
      ],
      "text/plain": [
       "             Passengerid       Age      Fare       Sex    Pclass  Embarked  \\\n",
       "Passengerid     1.000000  0.025799  0.031128 -0.013406 -0.038354 -0.051518   \n",
       "Age             0.025799  1.000000  0.178182 -0.053663 -0.377908 -0.065125   \n",
       "Fare            0.031128  0.178182  1.000000  0.185681 -0.558683 -0.239212   \n",
       "Sex            -0.013406 -0.053663  0.185681  1.000000 -0.124617 -0.099408   \n",
       "Pclass         -0.038354 -0.377908 -0.558683 -0.124617  1.000000  0.187349   \n",
       "Embarked       -0.051518 -0.065125 -0.239212 -0.099408  0.187349  1.000000   \n",
       "Survived       -0.331493 -0.055862  0.173786  0.404020 -0.244686 -0.093225   \n",
       "\n",
       "             Survived  \n",
       "Passengerid -0.331493  \n",
       "Age         -0.055862  \n",
       "Fare         0.173786  \n",
       "Sex          0.404020  \n",
       "Pclass      -0.244686  \n",
       "Embarked    -0.093225  \n",
       "Survived     1.000000  "
      ]
     },
     "execution_count": 36,
     "metadata": {},
     "output_type": "execute_result"
    }
   ],
   "source": [
    "df.corr()\n",
    "#pearson co realtion"
   ]
  },
  {
   "cell_type": "code",
   "execution_count": null,
   "id": "001b2fa7-b6f2-4afa-9a61-88c869af90d0",
   "metadata": {},
   "outputs": [],
   "source": []
  }
 ],
 "metadata": {
  "kernelspec": {
   "display_name": "Python 3 (ipykernel)",
   "language": "python",
   "name": "python3"
  },
  "language_info": {
   "codemirror_mode": {
    "name": "ipython",
    "version": 3
   },
   "file_extension": ".py",
   "mimetype": "text/x-python",
   "name": "python",
   "nbconvert_exporter": "python",
   "pygments_lexer": "ipython3",
   "version": "3.12.7"
  }
 },
 "nbformat": 4,
 "nbformat_minor": 5
}
